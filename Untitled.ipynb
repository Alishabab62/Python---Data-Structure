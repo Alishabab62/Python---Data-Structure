{
 "cells": [
  {
   "cell_type": "code",
   "execution_count": 1,
   "id": "b655d061-e49a-44c3-ae42-9df69838327e",
   "metadata": {},
   "outputs": [
    {
     "name": "stdout",
     "output_type": "stream",
     "text": [
      "Shabab Ali\n"
     ]
    }
   ],
   "source": [
    "# 1. Write a code to create a string with your name and print it.\n",
    "\n",
    "name = \"Shabab Ali\"\n",
    "print(name)"
   ]
  },
  {
   "cell_type": "code",
   "execution_count": 2,
   "id": "b0223e9e-456d-44ac-9ff5-cbcf24f54b31",
   "metadata": {},
   "outputs": [
    {
     "data": {
      "text/plain": [
       "12"
      ]
     },
     "execution_count": 2,
     "metadata": {},
     "output_type": "execute_result"
    }
   ],
   "source": [
    "# 2. Write a code to find the length of the string \"Hello World\".\n",
    "str = \"Hello World.\"\n",
    "len(str)"
   ]
  },
  {
   "cell_type": "code",
   "execution_count": 4,
   "id": "5dfa2fed-7a63-4d0a-b675-64e33a419e03",
   "metadata": {},
   "outputs": [
    {
     "data": {
      "text/plain": [
       "'Pyt'"
      ]
     },
     "execution_count": 4,
     "metadata": {},
     "output_type": "execute_result"
    }
   ],
   "source": [
    "#3. Write a code to slice the first 3 characters from the string \"Python Programming\".\n",
    "str = \"Python Programming\"\n",
    "str[0:3]"
   ]
  },
  {
   "cell_type": "code",
   "execution_count": 6,
   "id": "ecf0363f-0fec-43d4-9dd5-86cc6becb43a",
   "metadata": {},
   "outputs": [
    {
     "data": {
      "text/plain": [
       "'HELLO'"
      ]
     },
     "execution_count": 6,
     "metadata": {},
     "output_type": "execute_result"
    }
   ],
   "source": [
    "# 4. Write a code to convert the string \"hello\" to uppercase.\n",
    "str = \"hello\"\n",
    "str.upper()"
   ]
  },
  {
   "cell_type": "code",
   "execution_count": 7,
   "id": "1e33c795-d2a4-4661-bed3-794d6fccde60",
   "metadata": {},
   "outputs": [
    {
     "data": {
      "text/plain": [
       "'I like orange'"
      ]
     },
     "execution_count": 7,
     "metadata": {},
     "output_type": "execute_result"
    }
   ],
   "source": [
    "#5 . Write a code to replace the word \"apple\" with \"orange\" in the string \"I like apple\".\n",
    "str= \"I like apple\"\n",
    "str.replace(\"apple\",\"orange\")"
   ]
  },
  {
   "cell_type": "code",
   "execution_count": 10,
   "id": "37079616-9bc8-496d-a223-e6f65ed119ac",
   "metadata": {},
   "outputs": [
    {
     "data": {
      "text/plain": [
       "[1, 2, 3, 4, 5]"
      ]
     },
     "execution_count": 10,
     "metadata": {},
     "output_type": "execute_result"
    }
   ],
   "source": [
    "#6 . Write a code to create a list with numbers 1 to 5 and print it.\n",
    "[i for i in range(1, 6)]"
   ]
  },
  {
   "cell_type": "code",
   "execution_count": 12,
   "id": "3a5d1862-a421-4dfb-9d5a-5148445343bc",
   "metadata": {},
   "outputs": [
    {
     "data": {
      "text/plain": [
       "[1, 2, 3, 4, 10]"
      ]
     },
     "execution_count": 12,
     "metadata": {},
     "output_type": "execute_result"
    }
   ],
   "source": [
    "#7 .Write a code to append the number 10 to the list [1, 2, 3, 4]\n",
    "lis = [1,2,3,4]\n",
    "lis.append(10)\n",
    "l"
   ]
  },
  {
   "cell_type": "code",
   "execution_count": 14,
   "id": "6ea14be1-ad37-4de0-b9a8-4efe9238f4b5",
   "metadata": {},
   "outputs": [
    {
     "data": {
      "text/plain": [
       "[1, 2, 4, 5]"
      ]
     },
     "execution_count": 14,
     "metadata": {},
     "output_type": "execute_result"
    }
   ],
   "source": [
    "# 8. Write a code to remove the number 3 from the list [1, 2, 3, 4, 5]\n",
    "lis = [1, 2, 3, 4, 5]\n",
    "lis.remove(3)\n",
    "lis"
   ]
  },
  {
   "cell_type": "code",
   "execution_count": 15,
   "id": "f7485ca5-9c24-4530-a6b5-c2a4edf08c93",
   "metadata": {},
   "outputs": [
    {
     "data": {
      "text/plain": [
       "'b'"
      ]
     },
     "execution_count": 15,
     "metadata": {},
     "output_type": "execute_result"
    }
   ],
   "source": [
    "#9 .Write a code to access the second element in the list ['a', 'b', 'c', 'd']\n",
    "lis = ['a', 'b', 'c', 'd']\n",
    "lis[1]"
   ]
  },
  {
   "cell_type": "code",
   "execution_count": 16,
   "id": "e73d793d-b0aa-447b-87c6-c58fce4a0ec6",
   "metadata": {},
   "outputs": [
    {
     "data": {
      "text/plain": [
       "[50, 40, 30, 20, 10]"
      ]
     },
     "execution_count": 16,
     "metadata": {},
     "output_type": "execute_result"
    }
   ],
   "source": [
    "#10 . Write a code to reverse the list [10, 20, 30, 40, 50].\n",
    "lis = [10, 20, 30, 40, 50]\n",
    "lis[::-1]"
   ]
  },
  {
   "cell_type": "code",
   "execution_count": 17,
   "id": "b6f6985c-7788-4663-9a6a-cc576e191a16",
   "metadata": {},
   "outputs": [
    {
     "data": {
      "text/plain": [
       "(10, 20, 30)"
      ]
     },
     "execution_count": 17,
     "metadata": {},
     "output_type": "execute_result"
    }
   ],
   "source": [
    "#11 . Write a code to create a tuple with the elements 10, 20, 30 and print it.\n",
    "tup = (10,20,30)\n",
    "tup"
   ]
  },
  {
   "cell_type": "code",
   "execution_count": 18,
   "id": "423025f9-bb18-4fa0-8c3b-ec2aa2e1cf50",
   "metadata": {},
   "outputs": [
    {
     "data": {
      "text/plain": [
       "'apple'"
      ]
     },
     "execution_count": 18,
     "metadata": {},
     "output_type": "execute_result"
    }
   ],
   "source": [
    "#12 Write a code to access the first element of the tuple ('apple', 'banana', 'cherry').\n",
    "tup = ('apple', 'banana', 'cherry')\n",
    "tup[0]"
   ]
  },
  {
   "cell_type": "code",
   "execution_count": 19,
   "id": "32c660d7-e759-48cd-8cb7-522a7f4fd90c",
   "metadata": {},
   "outputs": [
    {
     "data": {
      "text/plain": [
       "3"
      ]
     },
     "execution_count": 19,
     "metadata": {},
     "output_type": "execute_result"
    }
   ],
   "source": [
    "#13 Write a code to count how many times the number 2 appears in the tuple (1, 2, 3, 2, 4, 2).\n",
    "tup = (1, 2, 3, 2, 4, 2)\n",
    "tup.count(2)"
   ]
  },
  {
   "cell_type": "code",
   "execution_count": 21,
   "id": "236df455-3820-48b2-9b0f-1d63a3c97e7d",
   "metadata": {},
   "outputs": [
    {
     "data": {
      "text/plain": [
       "1"
      ]
     },
     "execution_count": 21,
     "metadata": {},
     "output_type": "execute_result"
    }
   ],
   "source": [
    "#14 Write a code to find the index of the element \"cat\" in the tuple ('dog', 'cat', 'rabbit').\n",
    "tup = ('dog', 'cat', 'rabbit')\n",
    "tup.index('cat')"
   ]
  },
  {
   "cell_type": "code",
   "execution_count": 22,
   "id": "bd3dcc09-7bd7-40ef-884b-65c55aa3cebd",
   "metadata": {},
   "outputs": [
    {
     "data": {
      "text/plain": [
       "True"
      ]
     },
     "execution_count": 22,
     "metadata": {},
     "output_type": "execute_result"
    }
   ],
   "source": [
    "#15 . Write a code to check if the element \"banana\" is in the tuple ('apple', 'orange', 'banana')\n",
    "tup = ('apple', 'orange', 'banana')\n",
    "\"banana\" in tup"
   ]
  },
  {
   "cell_type": "code",
   "execution_count": 23,
   "id": "6a727cba-4a9f-4f71-9e0e-f3bc0aac2cfb",
   "metadata": {},
   "outputs": [
    {
     "data": {
      "text/plain": [
       "{1, 2, 3, 4, 5}"
      ]
     },
     "execution_count": 23,
     "metadata": {},
     "output_type": "execute_result"
    }
   ],
   "source": [
    "#16 . Write a code to create a set with the elements 1, 2, 3, 4, 5 and print it.\n",
    "set = {1, 2, 3, 4, 5}\n",
    "set"
   ]
  },
  {
   "cell_type": "code",
   "execution_count": 25,
   "id": "5481b192-68bd-4c04-9165-3169c331bfe9",
   "metadata": {},
   "outputs": [
    {
     "data": {
      "text/plain": [
       "{1, 2, 3, 4, 6}"
      ]
     },
     "execution_count": 25,
     "metadata": {},
     "output_type": "execute_result"
    }
   ],
   "source": [
    "#17 . Write a code to add the element 6 to the set {1, 2, 3, 4}.\n",
    "set = {1,2,3,4}\n",
    "set.add(6)\n",
    "set"
   ]
  },
  {
   "cell_type": "code",
   "execution_count": 27,
   "id": "58e00f38-3dad-4fec-aa4a-e8ba4f8f9e0f",
   "metadata": {},
   "outputs": [
    {
     "data": {
      "text/plain": [
       "(10, 20, 30)"
      ]
     },
     "execution_count": 27,
     "metadata": {},
     "output_type": "execute_result"
    }
   ],
   "source": [
    "#18. Write a code to create a tuple with the elements 10, 20, 30 and print it.\n",
    "tup = (10,20,30)\n",
    "tup"
   ]
  },
  {
   "cell_type": "code",
   "execution_count": 28,
   "id": "abb45ce4-84e9-4a22-84df-fa6bdc6e89ed",
   "metadata": {},
   "outputs": [
    {
     "data": {
      "text/plain": [
       "'apple'"
      ]
     },
     "execution_count": 28,
     "metadata": {},
     "output_type": "execute_result"
    }
   ],
   "source": [
    "#19 Write a code to access the first element of the tuple ('apple', 'banana', 'cherry').\n",
    "tup = ('apple', 'banana', 'cherry')\n",
    "tup[0]"
   ]
  },
  {
   "cell_type": "code",
   "execution_count": 29,
   "id": "2b03e0c7-23bf-43c2-85cb-29d3ebbba5f2",
   "metadata": {},
   "outputs": [
    {
     "data": {
      "text/plain": [
       "3"
      ]
     },
     "execution_count": 29,
     "metadata": {},
     "output_type": "execute_result"
    }
   ],
   "source": [
    "#20 Write a code to count how many times the number 2 appears in the tuple (1, 2, 3, 2, 4, 2).\n",
    "tup = (1, 2, 3, 2, 4, 2)\n",
    "tup.count(2)"
   ]
  },
  {
   "cell_type": "code",
   "execution_count": 30,
   "id": "76777fe9-6486-47e9-b53c-f14d9c697cdd",
   "metadata": {},
   "outputs": [
    {
     "data": {
      "text/plain": [
       "1"
      ]
     },
     "execution_count": 30,
     "metadata": {},
     "output_type": "execute_result"
    }
   ],
   "source": [
    "#21 Write a code to find the index of the element \"cat\" in the tuple ('dog', 'cat', 'rabbit').\n",
    "tup = ('dog', 'cat', 'rabbit')\n",
    "tup.index('cat')"
   ]
  },
  {
   "cell_type": "code",
   "execution_count": 31,
   "id": "f7451312-bfe2-4eeb-abb1-4ae24ea63b51",
   "metadata": {},
   "outputs": [
    {
     "data": {
      "text/plain": [
       "True"
      ]
     },
     "execution_count": 31,
     "metadata": {},
     "output_type": "execute_result"
    }
   ],
   "source": [
    "#22 . Write a code to check if the element \"banana\" is in the tuple ('apple', 'orange', 'banana')\n",
    "tup = ('apple', 'orange', 'banana')\n",
    "\"banana\" in tup"
   ]
  },
  {
   "cell_type": "code",
   "execution_count": 32,
   "id": "e754b42a-c693-460c-b6b3-297547da95d9",
   "metadata": {},
   "outputs": [
    {
     "data": {
      "text/plain": [
       "{1, 2, 3, 4, 5}"
      ]
     },
     "execution_count": 32,
     "metadata": {},
     "output_type": "execute_result"
    }
   ],
   "source": [
    "#23 . Write a code to create a set with the elements 1, 2, 3, 4, 5 and print it.\n",
    "set = {1, 2, 3, 4, 5}\n",
    "set"
   ]
  },
  {
   "cell_type": "code",
   "execution_count": 33,
   "id": "29d3d8d7-476b-4b50-b8b5-84fb967f738a",
   "metadata": {},
   "outputs": [
    {
     "data": {
      "text/plain": [
       "{1, 2, 3, 4, 6}"
      ]
     },
     "execution_count": 33,
     "metadata": {},
     "output_type": "execute_result"
    }
   ],
   "source": [
    "#24 . Write a code to add the element 6 to the set {1, 2, 3, 4}.\n",
    "set = {1,2,3,4}\n",
    "set.add(6)\n",
    "set"
   ]
  },
  {
   "cell_type": "markdown",
   "id": "7062ee3f-8814-44fe-98b8-24b2416c0e84",
   "metadata": {},
   "source": [
    "Theory\n",
    "\n",
    "1. What are data structures, and why are they important?\n",
    "   Datastructure are way to organize how the data will be stored, so it becomes easy to manageretrieved, delete efficiently. They help in writinge efficient algorithm implementation, helps in enhancinge perform, and provide a  better way to organize data."
   ]
  },
  {
   "cell_type": "markdown",
   "id": "ff751e29-bf8c-4049-b9be-3415551d28fd",
   "metadata": {},
   "source": [
    "2. Explain the difference between mutable and immutable data types with examples.\n",
    "Mutable data types can be update after their creation.\n",
    "Example list[].\n",
    "Immutable data types that can't be updated after their creation.\n",
    "Example tuple()."
   ]
  },
  {
   "cell_type": "markdown",
   "id": "7c1ddae1-f580-4b07-b534-d3ba565d6cc7",
   "metadata": {},
   "source": [
    "3. What are the main differences between lists and tuples in Python.\n",
    "List are mutable allowing dynamic updation example append, remove.\n",
    "ex-[1,2,3]\n",
    "Tuple are immutable which is not allow dynamic updation.\n",
    "ex - (1,2,3)"
   ]
  },
  {
   "cell_type": "markdown",
   "id": "6d3e09ff-6f30-4afd-a602-0a3f3af4bfd9",
   "metadata": {},
   "source": [
    "4.Describe how dictionaries store data.\n",
    "It store data in the form of key-pair where key act as the index of the dictionary.\n",
    "Keys help in fast retrival of data."
   ]
  },
  {
   "cell_type": "markdown",
   "id": "979b4024-7e03-4dfa-9013-11dbbe53ad8f",
   "metadata": {},
   "source": [
    "5. Why might you use a set instead of a list in Python.\n",
    "Set have special feature of handling duplicates values like sets have all the unique values present which is good\n",
    "where programmer need to get all the unique values and also it is unordered collection of data.\n",
    "while list allows duplicates and it is ordered collection of data."
   ]
  },
  {
   "cell_type": "markdown",
   "id": "f0a7346a-016a-4008-931a-ff1510ac51c7",
   "metadata": {},
   "source": [
    "6. What is a string in Python, and how is it different from a list.\n",
    "Sring is an immutable collection of character data structure, while list is collection of all data type including string\n",
    "and list is mutable. \n",
    "String is represnt by single '' and double \"\" quotes while list is represent by squre bracket []"
   ]
  },
  {
   "cell_type": "markdown",
   "id": "f09944b4-97a7-4f7b-b5ee-59e56ecb869a",
   "metadata": {},
   "source": [
    "7. How do tuples ensure data integrity in Python.\n",
    "Tuples are immutable so it ensure that data can't be change afte it's creation. This ensure that data remains\n",
    "consistent and prevents accidental modifications. "
   ]
  },
  {
   "cell_type": "markdown",
   "id": "abccbe87-afbc-4bbf-a377-7a45aa60f5bd",
   "metadata": {},
   "source": [
    "8.What is a hash table, and how does it relate to dictionaries in Python.\n",
    "A hash table is a data structure that maps keys to values using a hash function. Python dictionaries are implemented\n",
    "using hash tables, enabling average O(1) time complexity for insertions, deletions, and lookups."
   ]
  },
  {
   "cell_type": "markdown",
   "id": "c6e54d69-467d-4743-8d31-23d971d60a4d",
   "metadata": {},
   "source": [
    "9. Can lists contain different data types in Python.\n",
    "Yes list can contain different type of data."
   ]
  },
  {
   "cell_type": "markdown",
   "id": "24a855e5-9f10-4aea-8f4a-ffc9e6f4075e",
   "metadata": {},
   "source": [
    "10. Explain why strings are immutable in Python.\n",
    "Strings are immutable for reasons like security, thread safety, and optimization and avoid unintended modifications during text operations."
   ]
  },
  {
   "cell_type": "markdown",
   "id": "0a34ec31-177f-4a99-bb44-43116e9eb175",
   "metadata": {},
   "source": [
    "11. What advantages do dictionaries offer over lists for certain tasks.\n",
    "Dictionaries provide O(1) average time complexity for searching and are ideal for tasks requiring fast key-based data\n",
    "retrieval. Lists have O(n) search time and are better suited for sequential data storage."
   ]
  },
  {
   "cell_type": "markdown",
   "id": "e70bf699-59d2-4874-ad37-e8562f5cb53b",
   "metadata": {},
   "source": [
    "12. Describe a scenario where using a tuple would be preferable over a list.\n",
    "Tuples are preferable when storing fixed, unchanging data, such as geographic coordinates or RGB color codes ."
   ]
  },
  {
   "cell_type": "markdown",
   "id": "202fd1d4-59c8-453c-8c28-9f3d1695993a",
   "metadata": {},
   "source": [
    "13. How do sets handle duplicate values in Python.\n",
    "Sets automatically remove duplicates values, which results in unique values in sets."
   ]
  },
  {
   "cell_type": "markdown",
   "id": "5a41851f-ac0a-438d-ad85-aa00f8de0bd5",
   "metadata": {},
   "source": [
    "14. How does the “in” keyword work differently for lists and dictionaries.\n",
    "In list \"in\" checks the presence of list item while in dictionary \"in\" keyword checks the prescence of keys."
   ]
  },
  {
   "cell_type": "markdown",
   "id": "f502a49a-45a4-4977-a7f4-a1ecc0ef926b",
   "metadata": {},
   "source": [
    "15. Can you modify the elements of a tuple? Explain why or why not.\n",
    "No, tuples are immutable. Their elements cannot be changed after creation. This property ensures stability\n",
    "and data integrity."
   ]
  },
  {
   "cell_type": "markdown",
   "id": "91841f3c-6e26-4a54-b1d4-ba8853d621c6",
   "metadata": {},
   "source": [
    "16.What is a nested dictionary, and give an example of its use case.\n",
    "A nested dictionary is a dictionary within another dictionary.\n",
    "Example: data = {\n",
    "    \"employee\": {\n",
    "        \"name\": \"Shabab\",\n",
    "        \"age\": 22,\n",
    "        \"department\": \"IT\"\n",
    "    }\n",
    "}\n",
    "Use case: Representing hierarchical data, like organizational structures or JSON data."
   ]
  },
  {
   "cell_type": "markdown",
   "id": "4ad27f7e-0015-4545-93c3-e38d6561cae1",
   "metadata": {},
   "source": [
    "17. Describe the time complexity of accessing elements in a dictionary.\n",
    "Time complexity for accessing elements in dictionary is O(1)."
   ]
  },
  {
   "cell_type": "markdown",
   "id": "c94f65ac-279d-4f49-a466-68a4da56f0ed",
   "metadata": {},
   "source": [
    "18.  In what situations are lists preferred over dictionaries.\n",
    "Lists are preferred when order is important, for sequential  data, or when the data doesn’t need key-based\n",
    "access. Example: processing a queue or iterating over a collection."
   ]
  },
  {
   "cell_type": "markdown",
   "id": "9a0afab1-7d9a-4584-aadb-bc7880a61abe",
   "metadata": {},
   "source": [
    "19. Why are dictionaries considered unordered, and how does that affect data retrieval.\n",
    "Historically, dictionaries didn’t guarantee order. While modern Python (3.7+) maintains insertion order, dictionaries\n",
    "focus on efficient key-based lookups rather than positional indexing, affecting sequential operations."
   ]
  },
  {
   "cell_type": "markdown",
   "id": "cbf07589-b308-4296-9293-69904fef338e",
   "metadata": {},
   "source": [
    "20. Explain the difference between a list and a dictionary in terms of data retrieval.\n",
    "Lists: Retrieve elements by index (O(1)). Example: my_list[0].\n",
    "Dictionaries: Retrieve values by key (O(1) average). Example: my_dict[\"key\"]."
   ]
  }
 ],
 "metadata": {
  "kernelspec": {
   "display_name": "Python 3 (ipykernel)",
   "language": "python",
   "name": "python3"
  },
  "language_info": {
   "codemirror_mode": {
    "name": "ipython",
    "version": 3
   },
   "file_extension": ".py",
   "mimetype": "text/x-python",
   "name": "python",
   "nbconvert_exporter": "python",
   "pygments_lexer": "ipython3",
   "version": "3.12.3"
  }
 },
 "nbformat": 4,
 "nbformat_minor": 5
}
